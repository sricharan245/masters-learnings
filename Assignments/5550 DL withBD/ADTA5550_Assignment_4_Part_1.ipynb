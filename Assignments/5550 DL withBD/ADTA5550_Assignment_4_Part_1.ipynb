{
 "cells": [
  {
   "cell_type": "code",
   "execution_count": 30,
   "id": "7c5de15b",
   "metadata": {},
   "outputs": [],
   "source": [
    "# We are importing the required libraries\n",
    "import numpy as np\n",
    "import pandas as pd\n",
    "\n",
    "import matplotlib.pyplot as plt\n",
    "import matplotlib\n",
    "%matplotlib inline\n",
    "\n",
    "import tensorflow as tf\n",
    "from tensorflow.examples.tutorials.mnist import input_data\n",
    "\n",
    "import warnings\n",
    "warnings.filterwarnings(\"ignore\")"
   ]
  },
  {
   "cell_type": "code",
   "execution_count": 31,
   "id": "50c0b75d",
   "metadata": {},
   "outputs": [
    {
     "name": "stdout",
     "output_type": "stream",
     "text": [
      "--Versions--\n",
      "Numpy:  1.21.6\n",
      "Pandas:  1.3.5\n",
      "matplotlib:  3.5.3\n",
      "Tensorflow:  1.15.5\n"
     ]
    }
   ],
   "source": [
    "# Checking versions\n",
    "print (\"--Versions--\")\n",
    "\n",
    "print (\"Numpy: \", np.__version__)\n",
    "print (\"Pandas: \", pd.__version__)\n",
    "print (\"matplotlib: \", matplotlib.__version__)\n",
    "print (\"Tensorflow: \", tf.__version__)"
   ]
  },
  {
   "cell_type": "code",
   "execution_count": 32,
   "id": "60a42e63",
   "metadata": {},
   "outputs": [
    {
     "name": "stdout",
     "output_type": "stream",
     "text": [
      "Extracting MNIST_data/train-images-idx3-ubyte.gz\n",
      "Extracting MNIST_data/train-labels-idx1-ubyte.gz\n",
      "Extracting MNIST_data/t10k-images-idx3-ubyte.gz\n",
      "Extracting MNIST_data/t10k-labels-idx1-ubyte.gz\n"
     ]
    }
   ],
   "source": [
    "# Input data read from tensorflow library\n",
    "mnist = input_data.read_data_sets(\"MNIST_data/\", one_hot=True)"
   ]
  },
  {
   "cell_type": "markdown",
   "id": "fc432376",
   "metadata": {},
   "source": [
    "## Initializing Weights"
   ]
  },
  {
   "cell_type": "code",
   "execution_count": 33,
   "id": "ac0f58ee",
   "metadata": {},
   "outputs": [],
   "source": [
    "# This function will return a Variable of weights created randomly with normal distribution\n",
    "def initialize_weights(filter_shape):\n",
    "    init_random_dist = tf.truncated_normal(filter_shape, stddev=0.1)\n",
    "    return (tf.Variable(init_random_dist))\n"
   ]
  },
  {
   "cell_type": "markdown",
   "id": "a6f8b4dd",
   "metadata": {},
   "source": [
    "## Initializing Bias"
   ]
  },
  {
   "cell_type": "code",
   "execution_count": 34,
   "id": "1304ebf6",
   "metadata": {},
   "outputs": [],
   "source": [
    "# This function will return a Variable of bias with constant values\n",
    "def initialize_bias (bias_shape):\n",
    "    initial_bias_vals = tf.constant(0.1, shape= bias_shape)\n",
    "    return (tf.Variable(initial_bias_vals))"
   ]
  },
  {
   "cell_type": "markdown",
   "id": "44137392",
   "metadata": {},
   "source": [
    "## Set up Convolutional Layer and Perform Convolution Computation: Dot Product (x * W)\n"
   ]
  },
  {
   "cell_type": "code",
   "execution_count": 35,
   "id": "7bec503a",
   "metadata": {},
   "outputs": [],
   "source": [
    "# function to create Convolution layer to perform convolution using dot product\n",
    "def create_convolution_layer_and_compute_dot_product(inputs, filter_shape):\n",
    "    filter_initialized_with_weights = initialize_weights(filter_shape)\n",
    "    conv_layer_outputs = tf.nn.conv2d(inputs, filter_initialized_with_weights, strides=[1,1,1,1], padding='SAME')\n",
    "    return (conv_layer_outputs)\n",
    "    "
   ]
  },
  {
   "cell_type": "markdown",
   "id": "d214f3fd",
   "metadata": {},
   "source": [
    "## Set up a ReLU Layer and Perform Computation: Dot Product + Bias (x.W +b)\n"
   ]
  },
  {
   "cell_type": "code",
   "execution_count": 36,
   "id": "a7795909",
   "metadata": {},
   "outputs": [],
   "source": [
    "# function to create a ReLU layer to perform convolution which means computes dot product on input and weights then sums bias\n",
    "def create_relu_layer_and_compute_dotproduct_plus_b (inputs, filter_shape):\n",
    "    b = initialize_bias([filter_shape[3]])\n",
    "    relu_layer_outputs = tf.nn.relu(inputs + b )\n",
    "    return (relu_layer_outputs)\n",
    "    "
   ]
  },
  {
   "cell_type": "markdown",
   "id": "93f65082",
   "metadata": {},
   "source": [
    "## Set up a Pooling Layer and Reduce Spatial Size"
   ]
  },
  {
   "cell_type": "code",
   "execution_count": 37,
   "id": "94ca7895",
   "metadata": {},
   "outputs": [],
   "source": [
    "# creating 2x2 maxpooling layer and reducing spacing size\n",
    "def create_maxpool2by2_and_reduce_spatial_size(inputs):\n",
    "    pooling_layers_outputs = tf.nn.max_pool(inputs, ksize=[1,2,2,1], strides=[1,2,2,1], padding=\"SAME\")\n",
    "    return (pooling_layers_outputs)\n",
    "    \n",
    "    "
   ]
  },
  {
   "cell_type": "markdown",
   "id": "dab13305",
   "metadata": {},
   "source": [
    "## Set up fully connected layer and Perform computation: (Input * Weights) + Bias"
   ]
  },
  {
   "cell_type": "code",
   "execution_count": 38,
   "id": "4c6d100d",
   "metadata": {},
   "outputs": [],
   "source": [
    "# Function defines Fully connected layer and computes dot product on input and weights then sums bias\n",
    "\n",
    "def create_fully_connected_layer_and_compute_dotproduct_plus_bias (inputs, output_size):\n",
    "    input_size = int(inputs.get_shape()[1])\n",
    "    W=initialize_weights([input_size, output_size])\n",
    "    b=initialize_bias([output_size])\n",
    "    fc_xW_plus_bias_outputs = tf.matmul(inputs, W) + b\n",
    "    \n",
    "    return (fc_xW_plus_bias_outputs)"
   ]
  },
  {
   "cell_type": "markdown",
   "id": "a349bef4",
   "metadata": {},
   "source": [
    "# Phase 1: Build the Convolutional Neural Network"
   ]
  },
  {
   "cell_type": "markdown",
   "id": "e3f92766",
   "metadata": {},
   "source": [
    "## Create Placeholders for inputs and Labels: x & y_true"
   ]
  },
  {
   "cell_type": "code",
   "execution_count": 39,
   "id": "a408dc5e",
   "metadata": {},
   "outputs": [],
   "source": [
    "# Placeholder for input x\n",
    "x = tf.placeholder(tf.float32, shape=[None, 784])"
   ]
  },
  {
   "cell_type": "code",
   "execution_count": 40,
   "id": "5fad8ffd",
   "metadata": {},
   "outputs": [],
   "source": [
    "# Placeholder for  y_true\n",
    "y_true = tf.placeholder(tf.float32, [None, 10])"
   ]
  },
  {
   "cell_type": "markdown",
   "id": "9c444248",
   "metadata": {},
   "source": [
    "## Reshape the Input  "
   ]
  },
  {
   "cell_type": "code",
   "execution_count": 41,
   "id": "3f099906",
   "metadata": {},
   "outputs": [],
   "source": [
    "# Reshaping input x to 28x28\n",
    "x_image = tf.reshape(x, [-1, 28,28,1])"
   ]
  },
  {
   "cell_type": "markdown",
   "id": "34ea1b21",
   "metadata": {},
   "source": [
    "## Create 1st Convolution Layer, ReLU Layer and Perform Computation: x * W + b"
   ]
  },
  {
   "cell_type": "code",
   "execution_count": 42,
   "id": "d8ff004b",
   "metadata": {},
   "outputs": [],
   "source": [
    "# developing layer one convolution layer and ReLU layer\n",
    "\n",
    "conv_layer_1_outputs = create_convolution_layer_and_compute_dot_product(x_image, filter_shape = [5,5,1,32])\n",
    "\n",
    "conv_relu_layer_1_outputs = create_relu_layer_and_compute_dotproduct_plus_b(conv_layer_1_outputs, \n",
    "                                                                            filter_shape=[5,5,1,32])\n"
   ]
  },
  {
   "cell_type": "markdown",
   "id": "6fa31338",
   "metadata": {},
   "source": [
    "## Create 1st Pooling Layer and Reduce Spatial Size "
   ]
  },
  {
   "cell_type": "code",
   "execution_count": 43,
   "id": "c3e31e9b",
   "metadata": {},
   "outputs": [],
   "source": [
    "# developing layer one pooling layer (maxpooling)\n",
    "pooling_layer_1_outputs = create_maxpool2by2_and_reduce_spatial_size(conv_relu_layer_1_outputs)\n",
    "\n"
   ]
  },
  {
   "cell_type": "markdown",
   "id": "c5c36fba",
   "metadata": {},
   "source": [
    "## Create 2nd Convolution Layer, ReLU Layer and Perform Computation: x * W + b\n",
    "\n"
   ]
  },
  {
   "cell_type": "code",
   "execution_count": 44,
   "id": "b40dad00",
   "metadata": {},
   "outputs": [],
   "source": [
    "# developing layer two convolution layer and ReLU layer\n",
    "\n",
    "conv_layer_2_outputs = create_convolution_layer_and_compute_dot_product(pooling_layer_1_outputs, filter_shape = [5,5,32,64])\n",
    "\n",
    "conv_relu_layer_2_outputs = create_relu_layer_and_compute_dotproduct_plus_b(conv_layer_2_outputs, filter_shape=[5,5,32,64])\n"
   ]
  },
  {
   "cell_type": "markdown",
   "id": "0ba2a70d",
   "metadata": {},
   "source": [
    "## Create 2nd Pooling Layer and Reduce Spatial Size "
   ]
  },
  {
   "cell_type": "code",
   "execution_count": 45,
   "id": "dfaeec26",
   "metadata": {},
   "outputs": [],
   "source": [
    "# developing layer two pooling layer (maxpooling)\n",
    "pooling_layer_2_outputs = create_maxpool2by2_and_reduce_spatial_size(conv_relu_layer_2_outputs)\n",
    "\n"
   ]
  },
  {
   "cell_type": "markdown",
   "id": "275ee807",
   "metadata": {},
   "source": [
    "## Flatten Data Making it Ready to be Fed into 1st Fully Connected Layer\n"
   ]
  },
  {
   "cell_type": "code",
   "execution_count": 46,
   "id": "dbac7cad",
   "metadata": {},
   "outputs": [
    {
     "data": {
      "text/plain": [
       "TensorShape([Dimension(None), Dimension(3136)])"
      ]
     },
     "execution_count": 46,
     "metadata": {},
     "output_type": "execute_result"
    }
   ],
   "source": [
    "# reshaping the results from pooling layer 2 to 7x7x64 dimensions\n",
    "\n",
    "pooling_layer_2_outputs_flat = tf.reshape(pooling_layer_2_outputs, [-1, 7*7*64])\n",
    "\n",
    "pooling_layer_2_outputs_flat.shape"
   ]
  },
  {
   "cell_type": "markdown",
   "id": "539d4a86",
   "metadata": {},
   "source": [
    "## Create Fully Connected Layer ReLU Layer, and Output Data to Dropout Layer"
   ]
  },
  {
   "cell_type": "code",
   "execution_count": 47,
   "id": "a985fd32",
   "metadata": {},
   "outputs": [],
   "source": [
    "# Attaching Fully connected layer\n",
    "\n",
    "fc_layer_1_outputs = create_fully_connected_layer_and_compute_dotproduct_plus_bias(pooling_layer_2_outputs_flat, \n",
    "                                                                                   output_size=1024)\n",
    "fc_relu_layer_1_outputs = tf.nn.relu(fc_layer_1_outputs)\n",
    " \n",
    "\n"
   ]
  },
  {
   "cell_type": "code",
   "execution_count": 48,
   "id": "1d4657b4",
   "metadata": {},
   "outputs": [],
   "source": [
    "# creating placeholder to hold probabilites for dropout layer and creating dropout function in the network\n",
    "hold_prob = tf.placeholder(tf.float32)\n",
    "\n",
    "fc_dropout_outputs = tf.nn.dropout(fc_relu_layer_1_outputs, keep_prob=hold_prob)\n",
    "\n"
   ]
  },
  {
   "cell_type": "code",
   "execution_count": 49,
   "id": "5a5b47a2",
   "metadata": {},
   "outputs": [],
   "source": [
    "# Create Final FC Layer, Compute (x * W + b), and Produce Final Outputs\n",
    "\n",
    "y_pred = create_fully_connected_layer_and_compute_dotproduct_plus_bias(fc_dropout_outputs, output_size=10)"
   ]
  },
  {
   "cell_type": "markdown",
   "id": "1e5c125d",
   "metadata": {},
   "source": [
    "## Define Loss Function and Calculate Softmax Cross Entropy Loss"
   ]
  },
  {
   "cell_type": "code",
   "execution_count": 50,
   "id": "53fb45ce",
   "metadata": {
    "scrolled": true
   },
   "outputs": [],
   "source": [
    "# creating softmax activation with logits and cross entropy mean loss function\n",
    "\n",
    "softmax_cross_entropy_loss = tf.nn.softmax_cross_entropy_with_logits(labels=y_true, logits = y_pred)\n",
    "cross_entropy_mean = tf.reduce_mean(softmax_cross_entropy_loss)\n"
   ]
  },
  {
   "cell_type": "markdown",
   "id": "f9ac16e9",
   "metadata": {},
   "source": [
    "## Create an Optimizer to Optimize CNN Model and Set Learning Rate\n"
   ]
  },
  {
   "cell_type": "code",
   "execution_count": 51,
   "id": "125e4222",
   "metadata": {},
   "outputs": [],
   "source": [
    "# Creating an ADAM optimizer\n",
    "\n",
    "optimizer = tf.train.AdamOptimizer(learning_rate=0.001)\n",
    "\n"
   ]
  },
  {
   "cell_type": "markdown",
   "id": "dbf448bc",
   "metadata": {},
   "source": [
    "## Create a Trainer to train CNN Model\n"
   ]
  },
  {
   "cell_type": "code",
   "execution_count": 52,
   "id": "0ebeb589",
   "metadata": {},
   "outputs": [],
   "source": [
    "## building trainer\n",
    "\n",
    "cnn_trainer = optimizer.minimize(cross_entropy_mean)"
   ]
  },
  {
   "cell_type": "markdown",
   "id": "f1dcbab9",
   "metadata": {},
   "source": [
    "## Phase 2: Train and Test CNN Deep Learning Model on MNIST Dataset"
   ]
  },
  {
   "cell_type": "markdown",
   "id": "ec56222e",
   "metadata": {},
   "source": [
    "###  Create a variable initializer to initilize All Variables "
   ]
  },
  {
   "cell_type": "code",
   "execution_count": 53,
   "id": "8d2d48b5",
   "metadata": {},
   "outputs": [],
   "source": [
    "# Initializing all variables created so that we can use them for modelling\n",
    "\n",
    "vars_initializer = tf.global_variables_initializer()"
   ]
  },
  {
   "cell_type": "markdown",
   "id": "06fdd0f9",
   "metadata": {},
   "source": [
    "### Set the Steps"
   ]
  },
  {
   "cell_type": "code",
   "execution_count": 54,
   "id": "aeb6c684",
   "metadata": {},
   "outputs": [],
   "source": [
    "# Input the number of steps that the model is trained on\n",
    "steps = 5001"
   ]
  },
  {
   "cell_type": "markdown",
   "id": "ff1bb917",
   "metadata": {},
   "source": [
    "### Run tf.Session() to Train and Test Deep Learning CNN Model"
   ]
  },
  {
   "cell_type": "code",
   "execution_count": 55,
   "id": "ce32d9dd",
   "metadata": {},
   "outputs": [
    {
     "name": "stdout",
     "output_type": "stream",
     "text": [
      "ON STEP: 0\n",
      "ACCURACY: \n",
      "0.1298\n",
      "\n",
      "\n",
      "ON STEP: 100\n",
      "ACCURACY: \n",
      "0.9466\n",
      "\n",
      "\n",
      "ON STEP: 200\n",
      "ACCURACY: \n",
      "0.9605\n",
      "\n",
      "\n",
      "ON STEP: 300\n",
      "ACCURACY: \n",
      "0.9741\n",
      "\n",
      "\n",
      "ON STEP: 400\n",
      "ACCURACY: \n",
      "0.9737\n",
      "\n",
      "\n",
      "ON STEP: 500\n",
      "ACCURACY: \n",
      "0.9788\n",
      "\n",
      "\n",
      "ON STEP: 600\n",
      "ACCURACY: \n",
      "0.9778\n",
      "\n",
      "\n",
      "ON STEP: 700\n",
      "ACCURACY: \n",
      "0.9746\n",
      "\n",
      "\n",
      "ON STEP: 800\n",
      "ACCURACY: \n",
      "0.9791\n",
      "\n",
      "\n",
      "ON STEP: 900\n",
      "ACCURACY: \n",
      "0.9816\n",
      "\n",
      "\n",
      "ON STEP: 1000\n",
      "ACCURACY: \n",
      "0.9823\n",
      "\n",
      "\n",
      "ON STEP: 1100\n",
      "ACCURACY: \n",
      "0.9818\n",
      "\n",
      "\n",
      "ON STEP: 1200\n",
      "ACCURACY: \n",
      "0.9857\n",
      "\n",
      "\n",
      "ON STEP: 1300\n",
      "ACCURACY: \n",
      "0.9855\n",
      "\n",
      "\n",
      "ON STEP: 1400\n",
      "ACCURACY: \n",
      "0.986\n",
      "\n",
      "\n",
      "ON STEP: 1500\n",
      "ACCURACY: \n",
      "0.9873\n",
      "\n",
      "\n",
      "ON STEP: 1600\n",
      "ACCURACY: \n",
      "0.9863\n",
      "\n",
      "\n",
      "ON STEP: 1700\n",
      "ACCURACY: \n",
      "0.9877\n",
      "\n",
      "\n",
      "ON STEP: 1800\n",
      "ACCURACY: \n",
      "0.9838\n",
      "\n",
      "\n",
      "ON STEP: 1900\n",
      "ACCURACY: \n",
      "0.9868\n",
      "\n",
      "\n",
      "ON STEP: 2000\n",
      "ACCURACY: \n",
      "0.9866\n",
      "\n",
      "\n",
      "ON STEP: 2100\n",
      "ACCURACY: \n",
      "0.9831\n",
      "\n",
      "\n",
      "ON STEP: 2200\n",
      "ACCURACY: \n",
      "0.9865\n",
      "\n",
      "\n",
      "ON STEP: 2300\n",
      "ACCURACY: \n",
      "0.9888\n",
      "\n",
      "\n",
      "ON STEP: 2400\n",
      "ACCURACY: \n",
      "0.9884\n",
      "\n",
      "\n",
      "ON STEP: 2500\n",
      "ACCURACY: \n",
      "0.9869\n",
      "\n",
      "\n",
      "ON STEP: 2600\n",
      "ACCURACY: \n",
      "0.988\n",
      "\n",
      "\n",
      "ON STEP: 2700\n",
      "ACCURACY: \n",
      "0.9888\n",
      "\n",
      "\n",
      "ON STEP: 2800\n",
      "ACCURACY: \n",
      "0.9866\n",
      "\n",
      "\n",
      "ON STEP: 2900\n",
      "ACCURACY: \n",
      "0.9894\n",
      "\n",
      "\n",
      "ON STEP: 3000\n",
      "ACCURACY: \n",
      "0.9897\n",
      "\n",
      "\n",
      "ON STEP: 3100\n",
      "ACCURACY: \n",
      "0.9907\n",
      "\n",
      "\n",
      "ON STEP: 3200\n",
      "ACCURACY: \n",
      "0.9904\n",
      "\n",
      "\n",
      "ON STEP: 3300\n",
      "ACCURACY: \n",
      "0.9871\n",
      "\n",
      "\n",
      "ON STEP: 3400\n",
      "ACCURACY: \n",
      "0.9892\n",
      "\n",
      "\n",
      "ON STEP: 3500\n",
      "ACCURACY: \n",
      "0.9883\n",
      "\n",
      "\n",
      "ON STEP: 3600\n",
      "ACCURACY: \n",
      "0.9903\n",
      "\n",
      "\n",
      "ON STEP: 3700\n",
      "ACCURACY: \n",
      "0.9901\n",
      "\n",
      "\n",
      "ON STEP: 3800\n",
      "ACCURACY: \n",
      "0.9902\n",
      "\n",
      "\n",
      "ON STEP: 3900\n",
      "ACCURACY: \n",
      "0.9886\n",
      "\n",
      "\n",
      "ON STEP: 4000\n",
      "ACCURACY: \n",
      "0.9879\n",
      "\n",
      "\n",
      "ON STEP: 4100\n",
      "ACCURACY: \n",
      "0.9896\n",
      "\n",
      "\n",
      "ON STEP: 4200\n",
      "ACCURACY: \n",
      "0.9864\n",
      "\n",
      "\n",
      "ON STEP: 4300\n",
      "ACCURACY: \n",
      "0.9897\n",
      "\n",
      "\n",
      "ON STEP: 4400\n",
      "ACCURACY: \n",
      "0.9902\n",
      "\n",
      "\n",
      "ON STEP: 4500\n",
      "ACCURACY: \n",
      "0.9885\n",
      "\n",
      "\n",
      "ON STEP: 4600\n",
      "ACCURACY: \n",
      "0.9897\n",
      "\n",
      "\n",
      "ON STEP: 4700\n",
      "ACCURACY: \n",
      "0.9894\n",
      "\n",
      "\n",
      "ON STEP: 4800\n",
      "ACCURACY: \n",
      "0.991\n",
      "\n",
      "\n",
      "ON STEP: 4900\n",
      "ACCURACY: \n",
      "0.9902\n",
      "\n",
      "\n",
      "ON STEP: 5000\n",
      "ACCURACY: \n",
      "0.9884\n",
      "\n",
      "\n"
     ]
    }
   ],
   "source": [
    "# Using session function we are training and testing the model\n",
    "\n",
    "with tf.Session() as sess:\n",
    "    sess.run(vars_initializer)\n",
    "    for i in range(steps):\n",
    "        batch_x, batch_y = mnist.train.next_batch(50)\n",
    "        \n",
    "        sess.run(cnn_trainer, feed_dict={x: batch_x, y_true: batch_y, hold_prob: 0.5 })\n",
    "        \n",
    "        if i%100 ==0:\n",
    "            print ('ON STEP: {}'.format(i))\n",
    "            print ('ACCURACY: ')\n",
    "\n",
    "            matches = tf.equal (tf.argmax(y_pred, 1), tf.argmax(y_true, 1))\n",
    "            acc = tf.reduce_mean(tf.cast(matches, tf.float32))\n",
    "            \n",
    "            test_accuracy = sess.run(acc, {x:mnist.test.images, y_true:mnist.test.labels, hold_prob:1.0}  )\n",
    "            \n",
    "            print (test_accuracy)\n",
    "            print('\\n')\n",
    "            \n",
    "            "
   ]
  },
  {
   "cell_type": "code",
   "execution_count": null,
   "id": "2611eeb1",
   "metadata": {},
   "outputs": [],
   "source": []
  }
 ],
 "metadata": {
  "kernelspec": {
   "display_name": "Python 3",
   "language": "python",
   "name": "python3"
  },
  "language_info": {
   "codemirror_mode": {
    "name": "ipython",
    "version": 3
   },
   "file_extension": ".py",
   "mimetype": "text/x-python",
   "name": "python",
   "nbconvert_exporter": "python",
   "pygments_lexer": "ipython3",
   "version": "3.7.12"
  }
 },
 "nbformat": 4,
 "nbformat_minor": 5
}
