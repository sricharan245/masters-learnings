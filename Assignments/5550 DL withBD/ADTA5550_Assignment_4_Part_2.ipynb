{
 "cells": [
  {
   "cell_type": "code",
   "execution_count": 1,
   "id": "7c5de15b",
   "metadata": {},
   "outputs": [],
   "source": [
    "# We are importing the required libraries\n",
    "import numpy as np\n",
    "import pandas as pd\n",
    "\n",
    "import matplotlib.pyplot as plt\n",
    "import matplotlib\n",
    "%matplotlib inline\n",
    "\n",
    "import tensorflow as tf\n",
    "from tensorflow.examples.tutorials.mnist import input_data\n",
    "\n",
    "import warnings\n",
    "warnings.filterwarnings(\"ignore\")"
   ]
  },
  {
   "cell_type": "code",
   "execution_count": 2,
   "id": "50c0b75d",
   "metadata": {},
   "outputs": [
    {
     "name": "stdout",
     "output_type": "stream",
     "text": [
      "--Versions--\n",
      "Numpy:  1.21.6\n",
      "Pandas:  1.3.5\n",
      "matplotlib:  3.5.3\n",
      "Tensorflow:  1.15.5\n"
     ]
    }
   ],
   "source": [
    "# Checking versions\n",
    "print (\"--Versions--\")\n",
    "\n",
    "print (\"Numpy: \", np.__version__)\n",
    "print (\"Pandas: \", pd.__version__)\n",
    "print (\"matplotlib: \", matplotlib.__version__)\n",
    "print (\"Tensorflow: \", tf.__version__)"
   ]
  },
  {
   "cell_type": "code",
   "execution_count": 3,
   "id": "60a42e63",
   "metadata": {},
   "outputs": [
    {
     "name": "stdout",
     "output_type": "stream",
     "text": [
      "WARNING:tensorflow:From /tmp/ipykernel_18921/921522685.py:2: read_data_sets (from tensorflow.contrib.learn.python.learn.datasets.mnist) is deprecated and will be removed in a future version.\n",
      "Instructions for updating:\n",
      "Please use alternatives such as official/mnist/dataset.py from tensorflow/models.\n",
      "WARNING:tensorflow:From /opt/conda/lib/python3.7/site-packages/tensorflow_core/contrib/learn/python/learn/datasets/mnist.py:260: maybe_download (from tensorflow.contrib.learn.python.learn.datasets.base) is deprecated and will be removed in a future version.\n",
      "Instructions for updating:\n",
      "Please write your own downloading logic.\n",
      "WARNING:tensorflow:From /opt/conda/lib/python3.7/site-packages/tensorflow_core/contrib/learn/python/learn/datasets/mnist.py:262: extract_images (from tensorflow.contrib.learn.python.learn.datasets.mnist) is deprecated and will be removed in a future version.\n",
      "Instructions for updating:\n",
      "Please use tf.data to implement this functionality.\n",
      "Extracting MNIST_data/train-images-idx3-ubyte.gz\n",
      "WARNING:tensorflow:From /opt/conda/lib/python3.7/site-packages/tensorflow_core/contrib/learn/python/learn/datasets/mnist.py:267: extract_labels (from tensorflow.contrib.learn.python.learn.datasets.mnist) is deprecated and will be removed in a future version.\n",
      "Instructions for updating:\n",
      "Please use tf.data to implement this functionality.\n",
      "Extracting MNIST_data/train-labels-idx1-ubyte.gz\n",
      "WARNING:tensorflow:From /opt/conda/lib/python3.7/site-packages/tensorflow_core/contrib/learn/python/learn/datasets/mnist.py:110: dense_to_one_hot (from tensorflow.contrib.learn.python.learn.datasets.mnist) is deprecated and will be removed in a future version.\n",
      "Instructions for updating:\n",
      "Please use tf.one_hot on tensors.\n",
      "Extracting MNIST_data/t10k-images-idx3-ubyte.gz\n",
      "Extracting MNIST_data/t10k-labels-idx1-ubyte.gz\n",
      "WARNING:tensorflow:From /opt/conda/lib/python3.7/site-packages/tensorflow_core/contrib/learn/python/learn/datasets/mnist.py:290: DataSet.__init__ (from tensorflow.contrib.learn.python.learn.datasets.mnist) is deprecated and will be removed in a future version.\n",
      "Instructions for updating:\n",
      "Please use alternatives such as official/mnist/dataset.py from tensorflow/models.\n"
     ]
    }
   ],
   "source": [
    "# Input data read from tensorflow library\n",
    "mnist = input_data.read_data_sets(\"MNIST_data/\", one_hot=True)"
   ]
  },
  {
   "cell_type": "markdown",
   "id": "fc432376",
   "metadata": {},
   "source": [
    "## Initializing Weights"
   ]
  },
  {
   "cell_type": "code",
   "execution_count": 4,
   "id": "ac0f58ee",
   "metadata": {},
   "outputs": [],
   "source": [
    "# This function will return a Variable of weights created randomly with normal distribution\n",
    "def initialize_weights(filter_shape):\n",
    "    init_random_dist = tf.truncated_normal(filter_shape, stddev=0.1)\n",
    "    return (tf.Variable(init_random_dist))\n"
   ]
  },
  {
   "cell_type": "markdown",
   "id": "a6f8b4dd",
   "metadata": {},
   "source": [
    "## Initializing Bias"
   ]
  },
  {
   "cell_type": "code",
   "execution_count": 5,
   "id": "1304ebf6",
   "metadata": {},
   "outputs": [],
   "source": [
    "# This function will return a Variable of bias with constant values\n",
    "def initialize_bias (bias_shape):\n",
    "    initial_bias_vals = tf.constant(0.1, shape= bias_shape)\n",
    "    return (tf.Variable(initial_bias_vals))"
   ]
  },
  {
   "cell_type": "markdown",
   "id": "44137392",
   "metadata": {},
   "source": [
    "## Set up Convolutional Layer and Perform Convolution Computation: Dot Product (x * W)\n"
   ]
  },
  {
   "cell_type": "code",
   "execution_count": 6,
   "id": "7bec503a",
   "metadata": {},
   "outputs": [],
   "source": [
    "# function to create Convolution layer to perform convolution using dot product\n",
    "def create_convolution_layer_and_compute_dot_product(inputs, filter_shape):\n",
    "    filter_initialized_with_weights = initialize_weights(filter_shape)\n",
    "    conv_layer_outputs = tf.nn.conv2d(inputs, filter_initialized_with_weights, strides=[1,1,1,1], padding='SAME')\n",
    "    return (conv_layer_outputs)\n",
    "    "
   ]
  },
  {
   "cell_type": "markdown",
   "id": "d214f3fd",
   "metadata": {},
   "source": [
    "## Set up a ReLU Layer and Perform Computation: Dot Product + Bias (x.W +b)\n"
   ]
  },
  {
   "cell_type": "code",
   "execution_count": 7,
   "id": "a7795909",
   "metadata": {},
   "outputs": [],
   "source": [
    "# function to create a ReLU layer to perform convolution which means computes dot product on input and weights then sums bias\n",
    "def create_relu_layer_and_compute_dotproduct_plus_b (inputs, filter_shape):\n",
    "    b = initialize_bias([filter_shape[3]])\n",
    "    relu_layer_outputs = tf.nn.relu(inputs + b )\n",
    "    return (relu_layer_outputs)\n",
    "    "
   ]
  },
  {
   "cell_type": "markdown",
   "id": "93f65082",
   "metadata": {},
   "source": [
    "## Set up a Pooling Layer and Reduce Spatial Size"
   ]
  },
  {
   "cell_type": "code",
   "execution_count": 8,
   "id": "94ca7895",
   "metadata": {},
   "outputs": [],
   "source": [
    "# creating 2x2 maxpooling layer and reducing spacing size\n",
    "def create_maxpool2by2_and_reduce_spatial_size(inputs):\n",
    "    pooling_layers_outputs = tf.nn.max_pool(inputs, ksize=[1,2,2,1], strides=[1,2,2,1], padding=\"SAME\")\n",
    "    return (pooling_layers_outputs)\n",
    "    \n",
    "    "
   ]
  },
  {
   "cell_type": "markdown",
   "id": "dab13305",
   "metadata": {},
   "source": [
    "## Set up fully connected layer and Perform computation: (Input * Weights) + Bias"
   ]
  },
  {
   "cell_type": "code",
   "execution_count": 9,
   "id": "4c6d100d",
   "metadata": {},
   "outputs": [],
   "source": [
    "# Function defines Fully connected layer and computes dot product on input and weights then sums bias\n",
    "\n",
    "def create_fully_connected_layer_and_compute_dotproduct_plus_bias (inputs, output_size):\n",
    "    input_size = int(inputs.get_shape()[1])\n",
    "    W=initialize_weights([input_size, output_size])\n",
    "    b=initialize_bias([output_size])\n",
    "    fc_xW_plus_bias_outputs = tf.matmul(inputs, W) + b\n",
    "    \n",
    "    return (fc_xW_plus_bias_outputs)"
   ]
  },
  {
   "cell_type": "markdown",
   "id": "a349bef4",
   "metadata": {},
   "source": [
    "# Phase 1: Build the Convolutional Neural Network"
   ]
  },
  {
   "cell_type": "markdown",
   "id": "e3f92766",
   "metadata": {},
   "source": [
    "## Create Placeholders for inputs and Labels: x & y_true"
   ]
  },
  {
   "cell_type": "code",
   "execution_count": 10,
   "id": "a408dc5e",
   "metadata": {},
   "outputs": [
    {
     "name": "stdout",
     "output_type": "stream",
     "text": [
      "WARNING:tensorflow:From /tmp/ipykernel_18921/348725364.py:2: The name tf.placeholder is deprecated. Please use tf.compat.v1.placeholder instead.\n",
      "\n"
     ]
    }
   ],
   "source": [
    "# Placeholder for input x\n",
    "x = tf.placeholder(tf.float32, shape=[None, 784])"
   ]
  },
  {
   "cell_type": "code",
   "execution_count": 11,
   "id": "5fad8ffd",
   "metadata": {},
   "outputs": [],
   "source": [
    "# Placeholder for  y_true\n",
    "y_true = tf.placeholder(tf.float32, [None, 10])"
   ]
  },
  {
   "cell_type": "markdown",
   "id": "9c444248",
   "metadata": {},
   "source": [
    "## Reshape the Input  "
   ]
  },
  {
   "cell_type": "code",
   "execution_count": 12,
   "id": "3f099906",
   "metadata": {},
   "outputs": [],
   "source": [
    "# Reshaping input x to 28x28\n",
    "x_image = tf.reshape(x, [-1, 28,28,1])"
   ]
  },
  {
   "cell_type": "markdown",
   "id": "34ea1b21",
   "metadata": {},
   "source": [
    "## Create 1st Convolution Layer, ReLU Layer and Perform Computation: x * W + b"
   ]
  },
  {
   "cell_type": "code",
   "execution_count": 13,
   "id": "d8ff004b",
   "metadata": {},
   "outputs": [
    {
     "name": "stdout",
     "output_type": "stream",
     "text": [
      "WARNING:tensorflow:From /tmp/ipykernel_18921/3343426224.py:3: The name tf.truncated_normal is deprecated. Please use tf.random.truncated_normal instead.\n",
      "\n"
     ]
    },
    {
     "data": {
      "text/plain": [
       "TensorShape([Dimension(None), Dimension(28), Dimension(28), Dimension(32)])"
      ]
     },
     "execution_count": 13,
     "metadata": {},
     "output_type": "execute_result"
    }
   ],
   "source": [
    "# developing layer one convolution layer and ReLU layer\n",
    "\n",
    "conv_layer_1_outputs = create_convolution_layer_and_compute_dot_product(x_image, filter_shape = [5,5,1,32])\n",
    "\n",
    "conv_relu_layer_1_outputs = create_relu_layer_and_compute_dotproduct_plus_b(conv_layer_1_outputs, \n",
    "                                                                            filter_shape=[5,5,1,32])\n",
    "conv_relu_layer_1_outputs.shape"
   ]
  },
  {
   "cell_type": "markdown",
   "id": "6fa31338",
   "metadata": {},
   "source": [
    "## Create 1st Pooling Layer and Reduce Spatial Size "
   ]
  },
  {
   "cell_type": "code",
   "execution_count": 14,
   "id": "c3e31e9b",
   "metadata": {},
   "outputs": [],
   "source": [
    "# # developing layer one pooling layer (maxpooling)\n",
    "# pooling_layer_1_outputs = create_maxpool2by2_and_reduce_spatial_size(conv_relu_layer_1_outputs)\n",
    "\n",
    "# pooling_layer_1_outputs.shape"
   ]
  },
  {
   "cell_type": "markdown",
   "id": "c5c36fba",
   "metadata": {},
   "source": [
    "## Create 2nd Convolution Layer, ReLU Layer and Perform Computation: x * W + b\n",
    "\n"
   ]
  },
  {
   "cell_type": "code",
   "execution_count": 15,
   "id": "b40dad00",
   "metadata": {},
   "outputs": [],
   "source": [
    "# # developing layer two convolution layer and ReLU layer\n",
    "\n",
    "# conv_layer_2_outputs = create_convolution_layer_and_compute_dot_product(pooling_layer_1_outputs, filter_shape = [5,5,32,64])\n",
    "\n",
    "# conv_relu_layer_2_outputs = create_relu_layer_and_compute_dotproduct_plus_b(conv_layer_2_outputs, filter_shape=[5,5,32,64])\n"
   ]
  },
  {
   "cell_type": "markdown",
   "id": "0ba2a70d",
   "metadata": {},
   "source": [
    "## Create 2nd Pooling Layer and Reduce Spatial Size "
   ]
  },
  {
   "cell_type": "code",
   "execution_count": 16,
   "id": "dfaeec26",
   "metadata": {},
   "outputs": [],
   "source": [
    "# # developing layer two pooling layer (maxpooling)\n",
    "# pooling_layer_2_outputs = create_maxpool2by2_and_reduce_spatial_size(conv_relu_layer_2_outputs)\n",
    "\n"
   ]
  },
  {
   "cell_type": "markdown",
   "id": "275ee807",
   "metadata": {},
   "source": [
    "## Flatten Data Making it Ready to be Fed into 1st Fully Connected Layer\n"
   ]
  },
  {
   "cell_type": "code",
   "execution_count": 17,
   "id": "dbac7cad",
   "metadata": {},
   "outputs": [
    {
     "data": {
      "text/plain": [
       "TensorShape([Dimension(None), Dimension(25088)])"
      ]
     },
     "execution_count": 17,
     "metadata": {},
     "output_type": "execute_result"
    }
   ],
   "source": [
    "# reshaping the results from pooling layer 2 to 7x7x64 dimensions\n",
    "\n",
    "conv_relu_layer_1_outputs_flat = tf.reshape(conv_relu_layer_1_outputs, [-1, 7*7*512])\n",
    "\n",
    "conv_relu_layer_1_outputs_flat.shape"
   ]
  },
  {
   "cell_type": "markdown",
   "id": "539d4a86",
   "metadata": {},
   "source": [
    "## Create Fully Connected Layer ReLU Layer, and Output Data to Dropout Layer"
   ]
  },
  {
   "cell_type": "code",
   "execution_count": 18,
   "id": "a985fd32",
   "metadata": {},
   "outputs": [],
   "source": [
    "# Attaching Fully connected layer\n",
    "\n",
    "fc_layer_1_outputs = create_fully_connected_layer_and_compute_dotproduct_plus_bias(conv_relu_layer_1_outputs_flat, \n",
    "                                                                                   output_size=1024)\n",
    "fc_relu_layer_1_outputs = tf.nn.relu(fc_layer_1_outputs)\n",
    " \n",
    "\n"
   ]
  },
  {
   "cell_type": "code",
   "execution_count": 19,
   "id": "1d4657b4",
   "metadata": {},
   "outputs": [
    {
     "name": "stdout",
     "output_type": "stream",
     "text": [
      "WARNING:tensorflow:From /tmp/ipykernel_18921/635505950.py:4: calling dropout (from tensorflow.python.ops.nn_ops) with keep_prob is deprecated and will be removed in a future version.\n",
      "Instructions for updating:\n",
      "Please use `rate` instead of `keep_prob`. Rate should be set to `rate = 1 - keep_prob`.\n"
     ]
    }
   ],
   "source": [
    "# creating placeholder to hold probabilites for dropout layer and creating dropout function in the network\n",
    "hold_prob = tf.placeholder(tf.float32)\n",
    "\n",
    "fc_dropout_outputs = tf.nn.dropout(fc_relu_layer_1_outputs, keep_prob=hold_prob)\n",
    "\n"
   ]
  },
  {
   "cell_type": "code",
   "execution_count": 20,
   "id": "5a5b47a2",
   "metadata": {},
   "outputs": [],
   "source": [
    "# Create Final FC Layer, Compute (x * W + b), and Produce Final Outputs\n",
    "\n",
    "y_pred = create_fully_connected_layer_and_compute_dotproduct_plus_bias(fc_dropout_outputs, output_size=10)"
   ]
  },
  {
   "cell_type": "markdown",
   "id": "1e5c125d",
   "metadata": {},
   "source": [
    "## Define Loss Function and Calculate Softmax Cross Entropy Loss"
   ]
  },
  {
   "cell_type": "code",
   "execution_count": 21,
   "id": "53fb45ce",
   "metadata": {
    "scrolled": true
   },
   "outputs": [
    {
     "name": "stdout",
     "output_type": "stream",
     "text": [
      "WARNING:tensorflow:From /tmp/ipykernel_18921/1487109267.py:3: softmax_cross_entropy_with_logits (from tensorflow.python.ops.nn_ops) is deprecated and will be removed in a future version.\n",
      "Instructions for updating:\n",
      "\n",
      "Future major versions of TensorFlow will allow gradients to flow\n",
      "into the labels input on backprop by default.\n",
      "\n",
      "See `tf.nn.softmax_cross_entropy_with_logits_v2`.\n",
      "\n"
     ]
    }
   ],
   "source": [
    "# creating softmax activation with logits and cross entropy mean loss function\n",
    "\n",
    "softmax_cross_entropy_loss = tf.nn.softmax_cross_entropy_with_logits(labels=y_true, logits = y_pred)\n",
    "cross_entropy_mean = tf.reduce_mean(softmax_cross_entropy_loss)\n"
   ]
  },
  {
   "cell_type": "markdown",
   "id": "f9ac16e9",
   "metadata": {},
   "source": [
    "## Create an Optimizer to Optimize CNN Model and Set Learning Rate\n"
   ]
  },
  {
   "cell_type": "code",
   "execution_count": 22,
   "id": "125e4222",
   "metadata": {},
   "outputs": [
    {
     "name": "stdout",
     "output_type": "stream",
     "text": [
      "WARNING:tensorflow:From /tmp/ipykernel_18921/955288912.py:3: The name tf.train.AdamOptimizer is deprecated. Please use tf.compat.v1.train.AdamOptimizer instead.\n",
      "\n"
     ]
    }
   ],
   "source": [
    "# Creating an ADAM optimizer\n",
    "\n",
    "optimizer = tf.train.AdamOptimizer(learning_rate=0.001)\n",
    "\n"
   ]
  },
  {
   "cell_type": "markdown",
   "id": "dbf448bc",
   "metadata": {},
   "source": [
    "## Create a Trainer to train CNN Model\n"
   ]
  },
  {
   "cell_type": "code",
   "execution_count": 23,
   "id": "0ebeb589",
   "metadata": {},
   "outputs": [],
   "source": [
    "## building trainer\n",
    "\n",
    "cnn_trainer = optimizer.minimize(cross_entropy_mean)"
   ]
  },
  {
   "cell_type": "markdown",
   "id": "f1dcbab9",
   "metadata": {},
   "source": [
    "## Phase 2: Train and Test CNN Deep Learning Model on MNIST Dataset"
   ]
  },
  {
   "cell_type": "markdown",
   "id": "ec56222e",
   "metadata": {},
   "source": [
    "###  Create a variable initializer to initilize All Variables "
   ]
  },
  {
   "cell_type": "code",
   "execution_count": 24,
   "id": "8d2d48b5",
   "metadata": {},
   "outputs": [
    {
     "name": "stdout",
     "output_type": "stream",
     "text": [
      "WARNING:tensorflow:From /tmp/ipykernel_18921/1517623604.py:3: The name tf.global_variables_initializer is deprecated. Please use tf.compat.v1.global_variables_initializer instead.\n",
      "\n"
     ]
    }
   ],
   "source": [
    "# Initializing all variables created so that we can use them for modelling\n",
    "\n",
    "vars_initializer = tf.global_variables_initializer()"
   ]
  },
  {
   "cell_type": "markdown",
   "id": "06fdd0f9",
   "metadata": {},
   "source": [
    "### Set the Steps"
   ]
  },
  {
   "cell_type": "code",
   "execution_count": 25,
   "id": "aeb6c684",
   "metadata": {},
   "outputs": [],
   "source": [
    "# Input the number of steps that the model is trained on\n",
    "steps = 5001"
   ]
  },
  {
   "cell_type": "markdown",
   "id": "ff1bb917",
   "metadata": {},
   "source": [
    "### Run tf.Session() to Train and Test Deep Learning CNN Model"
   ]
  },
  {
   "cell_type": "code",
   "execution_count": 26,
   "id": "ce32d9dd",
   "metadata": {},
   "outputs": [
    {
     "name": "stdout",
     "output_type": "stream",
     "text": [
      "WARNING:tensorflow:From /tmp/ipykernel_18921/1516381781.py:3: The name tf.Session is deprecated. Please use tf.compat.v1.Session instead.\n",
      "\n"
     ]
    },
    {
     "name": "stderr",
     "output_type": "stream",
     "text": [
      "\n",
      "User settings:\n",
      "\n",
      "   KMP_AFFINITY=granularity=fine,verbose,compact,1,0\n",
      "   KMP_BLOCKTIME=0\n",
      "   KMP_DUPLICATE_LIB_OK=True\n",
      "   KMP_INIT_AT_FORK=FALSE\n",
      "   KMP_SETTINGS=1\n",
      "   OMP_NUM_THREADS=8\n",
      "\n",
      "Effective settings:\n",
      "\n",
      "   KMP_ABORT_DELAY=0\n",
      "   KMP_ADAPTIVE_LOCK_PROPS='1,1024'\n",
      "   KMP_ALIGN_ALLOC=64\n",
      "   KMP_ALL_THREADPRIVATE=128\n",
      "   KMP_ATOMIC_MODE=2\n",
      "   KMP_BLOCKTIME=0\n",
      "   KMP_CPUINFO_FILE: value is not defined\n",
      "   KMP_DETERMINISTIC_REDUCTION=false\n",
      "   KMP_DEVICE_THREAD_LIMIT=2147483647\n",
      "   KMP_DISP_HAND_THREAD=false\n",
      "   KMP_DISP_NUM_BUFFERS=7\n",
      "   KMP_DUPLICATE_LIB_OK=true\n",
      "   KMP_FORCE_REDUCTION: value is not defined\n",
      "   KMP_FOREIGN_THREADS_THREADPRIVATE=true\n",
      "   KMP_FORKJOIN_BARRIER='2,2'\n",
      "   KMP_FORKJOIN_BARRIER_PATTERN='hyper,hyper'\n",
      "   KMP_FORKJOIN_FRAMES=true\n",
      "   KMP_FORKJOIN_FRAMES_MODE=3\n",
      "   KMP_GTID_MODE=3\n",
      "   KMP_HANDLE_SIGNALS=false\n",
      "   KMP_HOT_TEAMS_MAX_LEVEL=1\n",
      "   KMP_HOT_TEAMS_MODE=0\n",
      "   KMP_INIT_AT_FORK=true\n",
      "   KMP_ITT_PREPARE_DELAY=0\n",
      "   KMP_LIBRARY=throughput\n",
      "   KMP_LOCK_KIND=queuing\n",
      "   KMP_MALLOC_POOL_INCR=1M\n",
      "   KMP_MWAIT_HINTS=0\n",
      "   KMP_NUM_LOCKS_IN_BLOCK=1\n",
      "   KMP_PLAIN_BARRIER='2,2'\n",
      "   KMP_PLAIN_BARRIER_PATTERN='hyper,hyper'\n",
      "   KMP_REDUCTION_BARRIER='1,1'\n",
      "   KMP_REDUCTION_BARRIER_PATTERN='hyper,hyper'\n",
      "   KMP_SCHEDULE='static,balanced;guided,iterative'\n",
      "   KMP_SETTINGS=true\n",
      "   KMP_SPIN_BACKOFF_PARAMS='4096,100'\n",
      "   KMP_STACKOFFSET=64\n",
      "   KMP_STACKPAD=0\n",
      "   KMP_STACKSIZE=8M\n",
      "   KMP_STORAGE_MAP=false\n",
      "   KMP_TASKING=2\n",
      "   KMP_TASKLOOP_MIN_TASKS=0\n",
      "   KMP_TASK_STEALING_CONSTRAINT=1\n",
      "   KMP_TEAMS_THREAD_LIMIT=8\n",
      "   KMP_TOPOLOGY_METHOD=all\n",
      "   KMP_USER_LEVEL_MWAIT=false\n",
      "   KMP_USE_YIELD=1\n",
      "   KMP_VERSION=false\n",
      "   KMP_WARNINGS=true\n",
      "   OMP_AFFINITY_FORMAT='OMP: pid %P tid %i thread %n bound to OS proc set {%A}'\n",
      "   OMP_ALLOCATOR=omp_default_mem_alloc\n",
      "   OMP_CANCELLATION=false\n",
      "   OMP_DEBUG=disabled\n",
      "   OMP_DEFAULT_DEVICE=0\n",
      "   OMP_DISPLAY_AFFINITY=false\n",
      "   OMP_DISPLAY_ENV=false\n",
      "   OMP_DYNAMIC=false\n",
      "   OMP_MAX_ACTIVE_LEVELS=2147483647\n",
      "   OMP_MAX_TASK_PRIORITY=0\n",
      "   OMP_NESTED=false\n",
      "   OMP_NUM_THREADS='8'\n",
      "   OMP_PLACES: value is not defined\n",
      "   OMP_PROC_BIND='intel'\n",
      "   OMP_SCHEDULE='static'\n",
      "   OMP_STACKSIZE=8M\n",
      "   OMP_TARGET_OFFLOAD=DEFAULT\n",
      "   OMP_THREAD_LIMIT=2147483647\n",
      "   OMP_TOOL=enabled\n",
      "   OMP_TOOL_LIBRARIES: value is not defined\n",
      "   OMP_WAIT_POLICY=PASSIVE\n",
      "   KMP_AFFINITY='verbose,warnings,respect,granularity=fine,compact,1,0'\n",
      "\n",
      "2023-09-29 02:48:51.397954: I tensorflow/core/platform/profile_utils/cpu_utils.cc:94] CPU Frequency: 2200230000 Hz\n",
      "2023-09-29 02:48:51.398676: I tensorflow/compiler/xla/service/service.cc:168] XLA service 0x55e8695bd640 initialized for platform Host (this does not guarantee that XLA will be used). Devices:\n",
      "2023-09-29 02:48:51.398706: I tensorflow/compiler/xla/service/service.cc:176]   StreamExecutor device (0): Host, Default Version\n",
      "2023-09-29 02:48:51.398859: I tensorflow/core/common_runtime/process_util.cc:136] Creating new thread pool with default inter op setting: 2. Tune using inter_op_parallelism_threads for best performance.\n",
      "OMP: Info #212: KMP_AFFINITY: decoding x2APIC ids.\n",
      "OMP: Info #210: KMP_AFFINITY: Affinity capable, using global cpuid leaf 11 info\n",
      "OMP: Info #154: KMP_AFFINITY: Initial OS proc set respected: 0-7\n",
      "OMP: Info #156: KMP_AFFINITY: 8 available OS procs\n",
      "OMP: Info #157: KMP_AFFINITY: Uniform topology\n",
      "OMP: Info #179: KMP_AFFINITY: 1 packages x 4 cores/pkg x 2 threads/core (4 total cores)\n",
      "OMP: Info #214: KMP_AFFINITY: OS proc to physical thread map:\n",
      "OMP: Info #171: KMP_AFFINITY: OS proc 0 maps to package 0 core 0 thread 0 \n",
      "OMP: Info #171: KMP_AFFINITY: OS proc 4 maps to package 0 core 0 thread 1 \n",
      "OMP: Info #171: KMP_AFFINITY: OS proc 1 maps to package 0 core 1 thread 0 \n",
      "OMP: Info #171: KMP_AFFINITY: OS proc 5 maps to package 0 core 1 thread 1 \n",
      "OMP: Info #171: KMP_AFFINITY: OS proc 2 maps to package 0 core 2 thread 0 \n",
      "OMP: Info #171: KMP_AFFINITY: OS proc 6 maps to package 0 core 2 thread 1 \n",
      "OMP: Info #171: KMP_AFFINITY: OS proc 3 maps to package 0 core 3 thread 0 \n",
      "OMP: Info #171: KMP_AFFINITY: OS proc 7 maps to package 0 core 3 thread 1 \n",
      "OMP: Info #250: KMP_AFFINITY: pid 18921 tid 18966 thread 0 bound to OS proc set 0\n",
      "OMP: Info #250: KMP_AFFINITY: pid 18921 tid 18966 thread 1 bound to OS proc set 1\n",
      "OMP: Info #250: KMP_AFFINITY: pid 18921 tid 18968 thread 2 bound to OS proc set 2\n",
      "OMP: Info #250: KMP_AFFINITY: pid 18921 tid 18969 thread 3 bound to OS proc set 3\n",
      "OMP: Info #250: KMP_AFFINITY: pid 18921 tid 18970 thread 4 bound to OS proc set 4\n",
      "OMP: Info #250: KMP_AFFINITY: pid 18921 tid 18973 thread 7 bound to OS proc set 7\n",
      "OMP: Info #250: KMP_AFFINITY: pid 18921 tid 18974 thread 8 bound to OS proc set 0\n",
      "OMP: Info #250: KMP_AFFINITY: pid 18921 tid 18972 thread 6 bound to OS proc set 6\n",
      "OMP: Info #250: KMP_AFFINITY: pid 18921 tid 18971 thread 5 bound to OS proc set 5\n",
      "OMP: Info #250: KMP_AFFINITY: pid 18921 tid 18965 thread 9 bound to OS proc set 1\n",
      "OMP: Info #250: KMP_AFFINITY: pid 18921 tid 18977 thread 12 bound to OS proc set 4\n",
      "OMP: Info #250: KMP_AFFINITY: pid 18921 tid 18976 thread 11 bound to OS proc set 3\n",
      "OMP: Info #250: KMP_AFFINITY: pid 18921 tid 18979 thread 14 bound to OS proc set 6\n",
      "OMP: Info #250: KMP_AFFINITY: pid 18921 tid 18978 thread 13 bound to OS proc set 5\n",
      "OMP: Info #250: KMP_AFFINITY: pid 18921 tid 18975 thread 10 bound to OS proc set 2\n",
      "OMP: Info #250: KMP_AFFINITY: pid 18921 tid 18981 thread 16 bound to OS proc set 0\n",
      "OMP: Info #250: KMP_AFFINITY: pid 18921 tid 18980 thread 15 bound to OS proc set 7\n"
     ]
    },
    {
     "name": "stdout",
     "output_type": "stream",
     "text": [
      "ON STEP: 0\n",
      "ACCURACY: \n",
      "0.1019\n",
      "\n",
      "\n",
      "ON STEP: 100\n",
      "ACCURACY: \n",
      "0.9008\n",
      "\n",
      "\n",
      "ON STEP: 200\n",
      "ACCURACY: \n",
      "0.9165\n",
      "\n",
      "\n",
      "ON STEP: 300\n",
      "ACCURACY: \n",
      "0.9301\n",
      "\n",
      "\n",
      "ON STEP: 400\n",
      "ACCURACY: \n",
      "0.9464\n",
      "\n",
      "\n",
      "ON STEP: 500\n",
      "ACCURACY: \n",
      "0.95\n",
      "\n",
      "\n",
      "ON STEP: 600\n",
      "ACCURACY: \n",
      "0.9593\n",
      "\n",
      "\n",
      "ON STEP: 700\n",
      "ACCURACY: \n",
      "0.9556\n",
      "\n",
      "\n",
      "ON STEP: 800\n",
      "ACCURACY: \n",
      "0.9657\n",
      "\n",
      "\n",
      "ON STEP: 900\n",
      "ACCURACY: \n",
      "0.9673\n",
      "\n",
      "\n",
      "ON STEP: 1000\n",
      "ACCURACY: \n",
      "0.9716\n",
      "\n",
      "\n",
      "ON STEP: 1100\n",
      "ACCURACY: \n",
      "0.9723\n",
      "\n",
      "\n",
      "ON STEP: 1200\n",
      "ACCURACY: \n",
      "0.9721\n",
      "\n",
      "\n",
      "ON STEP: 1300\n",
      "ACCURACY: \n",
      "0.9768\n",
      "\n",
      "\n",
      "ON STEP: 1400\n",
      "ACCURACY: \n",
      "0.9749\n",
      "\n",
      "\n",
      "ON STEP: 1500\n",
      "ACCURACY: \n",
      "0.9781\n",
      "\n",
      "\n",
      "ON STEP: 1600\n",
      "ACCURACY: \n",
      "0.9784\n",
      "\n",
      "\n",
      "ON STEP: 1700\n",
      "ACCURACY: \n",
      "0.9772\n",
      "\n",
      "\n",
      "ON STEP: 1800\n",
      "ACCURACY: \n",
      "0.9805\n",
      "\n",
      "\n",
      "ON STEP: 1900\n",
      "ACCURACY: \n",
      "0.9805\n",
      "\n",
      "\n",
      "ON STEP: 2000\n",
      "ACCURACY: \n",
      "0.9796\n",
      "\n",
      "\n",
      "ON STEP: 2100\n",
      "ACCURACY: \n",
      "0.9805\n",
      "\n",
      "\n",
      "ON STEP: 2200\n",
      "ACCURACY: \n",
      "0.979\n",
      "\n",
      "\n",
      "ON STEP: 2300\n",
      "ACCURACY: \n",
      "0.9807\n",
      "\n",
      "\n",
      "ON STEP: 2400\n",
      "ACCURACY: \n",
      "0.9829\n",
      "\n",
      "\n",
      "ON STEP: 2500\n",
      "ACCURACY: \n",
      "0.9822\n",
      "\n",
      "\n",
      "ON STEP: 2600\n",
      "ACCURACY: \n",
      "0.9813\n",
      "\n",
      "\n",
      "ON STEP: 2700\n",
      "ACCURACY: \n",
      "0.9832\n",
      "\n",
      "\n",
      "ON STEP: 2800\n",
      "ACCURACY: \n",
      "0.9818\n",
      "\n",
      "\n",
      "ON STEP: 2900\n",
      "ACCURACY: \n",
      "0.9838\n",
      "\n",
      "\n",
      "ON STEP: 3000\n",
      "ACCURACY: \n",
      "0.9827\n",
      "\n",
      "\n",
      "ON STEP: 3100\n",
      "ACCURACY: \n",
      "0.9837\n",
      "\n",
      "\n",
      "ON STEP: 3200\n",
      "ACCURACY: \n",
      "0.9851\n",
      "\n",
      "\n",
      "ON STEP: 3300\n",
      "ACCURACY: \n",
      "0.9852\n",
      "\n",
      "\n",
      "ON STEP: 3400\n",
      "ACCURACY: \n",
      "0.9833\n",
      "\n",
      "\n",
      "ON STEP: 3500\n",
      "ACCURACY: \n",
      "0.9855\n",
      "\n",
      "\n",
      "ON STEP: 3600\n",
      "ACCURACY: \n",
      "0.9846\n",
      "\n",
      "\n",
      "ON STEP: 3700\n",
      "ACCURACY: \n",
      "0.986\n",
      "\n",
      "\n",
      "ON STEP: 3800\n",
      "ACCURACY: \n",
      "0.9866\n",
      "\n",
      "\n",
      "ON STEP: 3900\n",
      "ACCURACY: \n",
      "0.9843\n",
      "\n",
      "\n",
      "ON STEP: 4000\n",
      "ACCURACY: \n",
      "0.9826\n",
      "\n",
      "\n",
      "ON STEP: 4100\n",
      "ACCURACY: \n",
      "0.9878\n",
      "\n",
      "\n",
      "ON STEP: 4200\n",
      "ACCURACY: \n",
      "0.9853\n",
      "\n",
      "\n",
      "ON STEP: 4300\n",
      "ACCURACY: \n",
      "0.9864\n",
      "\n",
      "\n",
      "ON STEP: 4400\n",
      "ACCURACY: \n",
      "0.986\n",
      "\n",
      "\n",
      "ON STEP: 4500\n",
      "ACCURACY: \n",
      "0.9875\n",
      "\n",
      "\n",
      "ON STEP: 4600\n",
      "ACCURACY: \n",
      "0.9884\n",
      "\n",
      "\n",
      "ON STEP: 4700\n",
      "ACCURACY: \n",
      "0.9862\n",
      "\n",
      "\n",
      "ON STEP: 4800\n",
      "ACCURACY: \n",
      "0.9862\n",
      "\n",
      "\n",
      "ON STEP: 4900\n",
      "ACCURACY: \n",
      "0.9844\n",
      "\n",
      "\n",
      "ON STEP: 5000\n",
      "ACCURACY: \n",
      "0.986\n",
      "\n",
      "\n"
     ]
    }
   ],
   "source": [
    "# Using session function we are training and testing the model\n",
    "\n",
    "with tf.Session() as sess:\n",
    "    sess.run(vars_initializer)\n",
    "    for i in range(steps):\n",
    "        batch_x, batch_y = mnist.train.next_batch(50)\n",
    "        \n",
    "        sess.run(cnn_trainer, feed_dict={x: batch_x, y_true: batch_y, hold_prob: 0.5 })\n",
    "        \n",
    "        if i%100 ==0:\n",
    "            print ('ON STEP: {}'.format(i))\n",
    "            print ('ACCURACY: ')\n",
    "\n",
    "            matches = tf.equal (tf.argmax(y_pred, 1), tf.argmax(y_true, 1))\n",
    "            acc = tf.reduce_mean(tf.cast(matches, tf.float32))\n",
    "            \n",
    "            test_accuracy = sess.run(acc, {x:mnist.test.images, y_true:mnist.test.labels, hold_prob:1.0}  )\n",
    "            \n",
    "            print (test_accuracy)\n",
    "            print('\\n')\n",
    "            \n",
    "            "
   ]
  },
  {
   "cell_type": "code",
   "execution_count": null,
   "id": "2611eeb1",
   "metadata": {},
   "outputs": [],
   "source": []
  }
 ],
 "metadata": {
  "kernelspec": {
   "display_name": "Python 3",
   "language": "python",
   "name": "python3"
  },
  "language_info": {
   "codemirror_mode": {
    "name": "ipython",
    "version": 3
   },
   "file_extension": ".py",
   "mimetype": "text/x-python",
   "name": "python",
   "nbconvert_exporter": "python",
   "pygments_lexer": "ipython3",
   "version": "3.7.12"
  }
 },
 "nbformat": 4,
 "nbformat_minor": 5
}
